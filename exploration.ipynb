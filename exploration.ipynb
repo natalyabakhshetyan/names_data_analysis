{
 "cells": [
  {
   "cell_type": "code",
   "execution_count": 1,
   "metadata": {},
   "outputs": [],
   "source": [
    "import pandas as pd\n",
    "import numpy as np\n",
    "import matplotlib.pyplot as plt"
   ]
  },
  {
   "cell_type": "markdown",
   "metadata": {},
   "source": [
    "## Data Preperation"
   ]
  },
  {
   "cell_type": "code",
   "execution_count": 2,
   "metadata": {},
   "outputs": [],
   "source": [
    "#concaterate data\n",
    "\n",
    "years = range(2015, 2019)\n",
    "\n",
    "pieces = []\n",
    "columns = ['name', 'sex', 'births']\n",
    "\n",
    "for year in years:\n",
    "    path ='yob%d.txt' %year\n",
    "    frame = pd.read_csv(path, names = columns)\n",
    "    \n",
    "    frame['year'] = year\n",
    "    pieces.append(frame)\n",
    "    \n",
    "names = pd.concat(pieces, ignore_index = True)"
   ]
  },
  {
   "cell_type": "markdown",
   "metadata": {},
   "source": [
    "## Data Exploration\n",
    "### Overview"
   ]
  },
  {
   "cell_type": "code",
   "execution_count": 3,
   "metadata": {},
   "outputs": [
    {
     "name": "stdout",
     "output_type": "stream",
     "text": [
      "<class 'pandas.core.frame.DataFrame'>\n",
      "RangeIndex: 130754 entries, 0 to 130753\n",
      "Data columns (total 4 columns):\n",
      "name      130754 non-null object\n",
      "sex       130754 non-null object\n",
      "births    130754 non-null int64\n",
      "year      130754 non-null int64\n",
      "dtypes: int64(2), object(2)\n",
      "memory usage: 4.0+ MB\n"
     ]
    }
   ],
   "source": [
    "names.info()"
   ]
  },
  {
   "cell_type": "code",
   "execution_count": 4,
   "metadata": {},
   "outputs": [
    {
     "data": {
      "text/html": [
       "<div>\n",
       "<style scoped>\n",
       "    .dataframe tbody tr th:only-of-type {\n",
       "        vertical-align: middle;\n",
       "    }\n",
       "\n",
       "    .dataframe tbody tr th {\n",
       "        vertical-align: top;\n",
       "    }\n",
       "\n",
       "    .dataframe thead th {\n",
       "        text-align: right;\n",
       "    }\n",
       "</style>\n",
       "<table border=\"1\" class=\"dataframe\">\n",
       "  <thead>\n",
       "    <tr style=\"text-align: right;\">\n",
       "      <th></th>\n",
       "      <th>name</th>\n",
       "      <th>sex</th>\n",
       "      <th>births</th>\n",
       "      <th>year</th>\n",
       "    </tr>\n",
       "  </thead>\n",
       "  <tbody>\n",
       "    <tr>\n",
       "      <th>0</th>\n",
       "      <td>Emma</td>\n",
       "      <td>F</td>\n",
       "      <td>20455</td>\n",
       "      <td>2015</td>\n",
       "    </tr>\n",
       "    <tr>\n",
       "      <th>1</th>\n",
       "      <td>Olivia</td>\n",
       "      <td>F</td>\n",
       "      <td>19691</td>\n",
       "      <td>2015</td>\n",
       "    </tr>\n",
       "    <tr>\n",
       "      <th>2</th>\n",
       "      <td>Sophia</td>\n",
       "      <td>F</td>\n",
       "      <td>17417</td>\n",
       "      <td>2015</td>\n",
       "    </tr>\n",
       "    <tr>\n",
       "      <th>3</th>\n",
       "      <td>Ava</td>\n",
       "      <td>F</td>\n",
       "      <td>16378</td>\n",
       "      <td>2015</td>\n",
       "    </tr>\n",
       "    <tr>\n",
       "      <th>4</th>\n",
       "      <td>Isabella</td>\n",
       "      <td>F</td>\n",
       "      <td>15617</td>\n",
       "      <td>2015</td>\n",
       "    </tr>\n",
       "  </tbody>\n",
       "</table>\n",
       "</div>"
      ],
      "text/plain": [
       "       name sex  births  year\n",
       "0      Emma   F   20455  2015\n",
       "1    Olivia   F   19691  2015\n",
       "2    Sophia   F   17417  2015\n",
       "3       Ava   F   16378  2015\n",
       "4  Isabella   F   15617  2015"
      ]
     },
     "execution_count": 4,
     "metadata": {},
     "output_type": "execute_result"
    }
   ],
   "source": [
    "names.head()"
   ]
  },
  {
   "cell_type": "code",
   "execution_count": 5,
   "metadata": {},
   "outputs": [
    {
     "data": {
      "text/plain": [
       "sex\n",
       "F    6952764\n",
       "M    7446351\n",
       "Name: births, dtype: int64"
      ]
     },
     "execution_count": 5,
     "metadata": {},
     "output_type": "execute_result"
    }
   ],
   "source": [
    "# sum of births by sex\n",
    "names.groupby('sex').births.sum()"
   ]
  },
  {
   "cell_type": "code",
   "execution_count": 6,
   "metadata": {},
   "outputs": [
    {
     "data": {
      "text/html": [
       "<div>\n",
       "<style scoped>\n",
       "    .dataframe tbody tr th:only-of-type {\n",
       "        vertical-align: middle;\n",
       "    }\n",
       "\n",
       "    .dataframe tbody tr th {\n",
       "        vertical-align: top;\n",
       "    }\n",
       "\n",
       "    .dataframe thead th {\n",
       "        text-align: right;\n",
       "    }\n",
       "</style>\n",
       "<table border=\"1\" class=\"dataframe\">\n",
       "  <thead>\n",
       "    <tr style=\"text-align: right;\">\n",
       "      <th>sex</th>\n",
       "      <th>F</th>\n",
       "      <th>M</th>\n",
       "    </tr>\n",
       "    <tr>\n",
       "      <th>year</th>\n",
       "      <th></th>\n",
       "      <th></th>\n",
       "    </tr>\n",
       "  </thead>\n",
       "  <tbody>\n",
       "    <tr>\n",
       "      <th>2015</th>\n",
       "      <td>1780453</td>\n",
       "      <td>1911537</td>\n",
       "    </tr>\n",
       "    <tr>\n",
       "      <th>2016</th>\n",
       "      <td>1766212</td>\n",
       "      <td>1891585</td>\n",
       "    </tr>\n",
       "    <tr>\n",
       "      <th>2017</th>\n",
       "      <td>1719138</td>\n",
       "      <td>1842837</td>\n",
       "    </tr>\n",
       "    <tr>\n",
       "      <th>2018</th>\n",
       "      <td>1686961</td>\n",
       "      <td>1800392</td>\n",
       "    </tr>\n",
       "  </tbody>\n",
       "</table>\n",
       "</div>"
      ],
      "text/plain": [
       "sex         F        M\n",
       "year                  \n",
       "2015  1780453  1911537\n",
       "2016  1766212  1891585\n",
       "2017  1719138  1842837\n",
       "2018  1686961  1800392"
      ]
     },
     "execution_count": 6,
     "metadata": {},
     "output_type": "execute_result"
    }
   ],
   "source": [
    "# aggregate data at year and sex level\n",
    "\n",
    "total_births = names.pivot_table('births', index = 'year', columns = 'sex', aggfunc = sum)\n",
    "total_births"
   ]
  },
  {
   "cell_type": "code",
   "execution_count": 7,
   "metadata": {},
   "outputs": [
    {
     "data": {
      "text/plain": [
       "<matplotlib.axes._subplots.AxesSubplot at 0x7f0c0f3f6390>"
      ]
     },
     "execution_count": 7,
     "metadata": {},
     "output_type": "execute_result"
    },
    {
     "data": {
      "image/png": "[encoded data removed]",
      "text/plain": [
       "<Figure size 432x288 with 1 Axes>"
      ]
     },
     "metadata": {
      "needs_background": "light"
     },
     "output_type": "display_data"
    }
   ],
   "source": [
    "total_births.plot(title=\"Total births by sex and year\", xticks =[2015, 2016, 2017, 2018])"
   ]
  },
  {
   "cell_type": "code",
   "execution_count": 8,
   "metadata": {},
   "outputs": [
    {
     "data": {
      "text/html": [
       "<div>\n",
       "<style scoped>\n",
       "    .dataframe tbody tr th:only-of-type {\n",
       "        vertical-align: middle;\n",
       "    }\n",
       "\n",
       "    .dataframe tbody tr th {\n",
       "        vertical-align: top;\n",
       "    }\n",
       "\n",
       "    .dataframe thead th {\n",
       "        text-align: right;\n",
       "    }\n",
       "</style>\n",
       "<table border=\"1\" class=\"dataframe\">\n",
       "  <thead>\n",
       "    <tr style=\"text-align: right;\">\n",
       "      <th></th>\n",
       "      <th>name</th>\n",
       "      <th>sex</th>\n",
       "      <th>births</th>\n",
       "      <th>year</th>\n",
       "      <th>prop</th>\n",
       "    </tr>\n",
       "  </thead>\n",
       "  <tbody>\n",
       "    <tr>\n",
       "      <th>0</th>\n",
       "      <td>Emma</td>\n",
       "      <td>F</td>\n",
       "      <td>20455</td>\n",
       "      <td>2015</td>\n",
       "      <td>0.011489</td>\n",
       "    </tr>\n",
       "    <tr>\n",
       "      <th>1</th>\n",
       "      <td>Olivia</td>\n",
       "      <td>F</td>\n",
       "      <td>19691</td>\n",
       "      <td>2015</td>\n",
       "      <td>0.011060</td>\n",
       "    </tr>\n",
       "    <tr>\n",
       "      <th>2</th>\n",
       "      <td>Sophia</td>\n",
       "      <td>F</td>\n",
       "      <td>17417</td>\n",
       "      <td>2015</td>\n",
       "      <td>0.009782</td>\n",
       "    </tr>\n",
       "    <tr>\n",
       "      <th>3</th>\n",
       "      <td>Ava</td>\n",
       "      <td>F</td>\n",
       "      <td>16378</td>\n",
       "      <td>2015</td>\n",
       "      <td>0.009199</td>\n",
       "    </tr>\n",
       "    <tr>\n",
       "      <th>4</th>\n",
       "      <td>Isabella</td>\n",
       "      <td>F</td>\n",
       "      <td>15617</td>\n",
       "      <td>2015</td>\n",
       "      <td>0.008771</td>\n",
       "    </tr>\n",
       "  </tbody>\n",
       "</table>\n",
       "</div>"
      ],
      "text/plain": [
       "       name sex  births  year      prop\n",
       "0      Emma   F   20455  2015  0.011489\n",
       "1    Olivia   F   19691  2015  0.011060\n",
       "2    Sophia   F   17417  2015  0.009782\n",
       "3       Ava   F   16378  2015  0.009199\n",
       "4  Isabella   F   15617  2015  0.008771"
      ]
     },
     "execution_count": 8,
     "metadata": {},
     "output_type": "execute_result"
    }
   ],
   "source": [
    "# insert a column prop with the fraction of babies given \n",
    "# each name relative to the total number of births\n",
    "\n",
    "def add_prop(group):\n",
    "    births = group.births.astype(float)\n",
    "    \n",
    "    group['prop'] = births/births.sum()\n",
    "    return group\n",
    "\n",
    "names = names.groupby(['year', 'sex']).apply(add_prop)\n",
    "names.head()"
   ]
  },
  {
   "cell_type": "code",
   "execution_count": 9,
   "metadata": {},
   "outputs": [
    {
     "data": {
      "text/plain": [
       "True"
      ]
     },
     "execution_count": 9,
     "metadata": {},
     "output_type": "execute_result"
    }
   ],
   "source": [
    "# use np.allclose to check that the group sums are sufficiently\n",
    "# close to 1\n",
    "\n",
    "np.allclose(names.groupby(['year', 'sex']).prop.sum(), 1)"
   ]
  },
  {
   "cell_type": "markdown",
   "metadata": {},
   "source": [
    "### Exploring name diversity"
   ]
  },
  {
   "cell_type": "code",
   "execution_count": 10,
   "metadata": {},
   "outputs": [
    {
     "name": "stdout",
     "output_type": "stream",
     "text": [
      "<class 'pandas.core.frame.DataFrame'>\n",
      "MultiIndex: 8000 entries, (0, 0) to (7, 117749)\n",
      "Data columns (total 5 columns):\n",
      "name      8000 non-null object\n",
      "sex       8000 non-null object\n",
      "births    8000 non-null int64\n",
      "year      8000 non-null int64\n",
      "prop      8000 non-null float64\n",
      "dtypes: float64(1), int64(2), object(2)\n",
      "memory usage: 398.5+ KB\n"
     ]
    }
   ],
   "source": [
    "# extract top 1000 names for each sex/year combination\n",
    "\n",
    "def get_top1000(group):\n",
    "    return group.sort_values(by='births', ascending=False)[:1000]\n",
    "\n",
    "grouped = names.groupby(['year', 'sex'], as_index=False)\n",
    "top1000 = grouped.apply(get_top1000)\n",
    "top1000.info()"
   ]
  },
  {
   "cell_type": "code",
   "execution_count": 11,
   "metadata": {},
   "outputs": [
    {
     "data": {
      "text/html": [
       "<div>\n",
       "<style scoped>\n",
       "    .dataframe tbody tr th:only-of-type {\n",
       "        vertical-align: middle;\n",
       "    }\n",
       "\n",
       "    .dataframe tbody tr th {\n",
       "        vertical-align: top;\n",
       "    }\n",
       "\n",
       "    .dataframe thead th {\n",
       "        text-align: right;\n",
       "    }\n",
       "</style>\n",
       "<table border=\"1\" class=\"dataframe\">\n",
       "  <thead>\n",
       "    <tr style=\"text-align: right;\">\n",
       "      <th></th>\n",
       "      <th></th>\n",
       "      <th>name</th>\n",
       "      <th>sex</th>\n",
       "      <th>births</th>\n",
       "      <th>year</th>\n",
       "      <th>prop</th>\n",
       "    </tr>\n",
       "  </thead>\n",
       "  <tbody>\n",
       "    <tr>\n",
       "      <th rowspan=\"5\" valign=\"top\">1</th>\n",
       "      <th>19091</th>\n",
       "      <td>Noah</td>\n",
       "      <td>M</td>\n",
       "      <td>19635</td>\n",
       "      <td>2015</td>\n",
       "      <td>0.010272</td>\n",
       "    </tr>\n",
       "    <tr>\n",
       "      <th>19092</th>\n",
       "      <td>Liam</td>\n",
       "      <td>M</td>\n",
       "      <td>18374</td>\n",
       "      <td>2015</td>\n",
       "      <td>0.009612</td>\n",
       "    </tr>\n",
       "    <tr>\n",
       "      <th>19093</th>\n",
       "      <td>Mason</td>\n",
       "      <td>M</td>\n",
       "      <td>16627</td>\n",
       "      <td>2015</td>\n",
       "      <td>0.008698</td>\n",
       "    </tr>\n",
       "    <tr>\n",
       "      <th>19094</th>\n",
       "      <td>Jacob</td>\n",
       "      <td>M</td>\n",
       "      <td>15949</td>\n",
       "      <td>2015</td>\n",
       "      <td>0.008344</td>\n",
       "    </tr>\n",
       "    <tr>\n",
       "      <th>19095</th>\n",
       "      <td>William</td>\n",
       "      <td>M</td>\n",
       "      <td>15909</td>\n",
       "      <td>2015</td>\n",
       "      <td>0.008323</td>\n",
       "    </tr>\n",
       "  </tbody>\n",
       "</table>\n",
       "</div>"
      ],
      "text/plain": [
       "            name sex  births  year      prop\n",
       "1 19091     Noah   M   19635  2015  0.010272\n",
       "  19092     Liam   M   18374  2015  0.009612\n",
       "  19093    Mason   M   16627  2015  0.008698\n",
       "  19094    Jacob   M   15949  2015  0.008344\n",
       "  19095  William   M   15909  2015  0.008323"
      ]
     },
     "execution_count": 11,
     "metadata": {},
     "output_type": "execute_result"
    }
   ],
   "source": [
    "# split names into boys and girls\n",
    "\n",
    "boys = top1000[top1000.sex=='M']\n",
    "girls = top1000[top1000.sex=='F']\n",
    "boys.head()"
   ]
  },
  {
   "cell_type": "code",
   "execution_count": 12,
   "metadata": {},
   "outputs": [
    {
     "data": {
      "text/html": [
       "<div>\n",
       "<style scoped>\n",
       "    .dataframe tbody tr th:only-of-type {\n",
       "        vertical-align: middle;\n",
       "    }\n",
       "\n",
       "    .dataframe tbody tr th {\n",
       "        vertical-align: top;\n",
       "    }\n",
       "\n",
       "    .dataframe thead th {\n",
       "        text-align: right;\n",
       "    }\n",
       "</style>\n",
       "<table border=\"1\" class=\"dataframe\">\n",
       "  <thead>\n",
       "    <tr style=\"text-align: right;\">\n",
       "      <th>name</th>\n",
       "      <th>Aaden</th>\n",
       "      <th>Aadhya</th>\n",
       "      <th>Aaliyah</th>\n",
       "      <th>Aarav</th>\n",
       "      <th>Aaron</th>\n",
       "      <th>Aarush</th>\n",
       "      <th>Abby</th>\n",
       "      <th>Abdiel</th>\n",
       "      <th>Abdullah</th>\n",
       "      <th>Abel</th>\n",
       "      <th>...</th>\n",
       "      <th>Zev</th>\n",
       "      <th>Zhavia</th>\n",
       "      <th>Zion</th>\n",
       "      <th>Zoe</th>\n",
       "      <th>Zoey</th>\n",
       "      <th>Zoie</th>\n",
       "      <th>Zola</th>\n",
       "      <th>Zora</th>\n",
       "      <th>Zuri</th>\n",
       "      <th>Zyaire</th>\n",
       "    </tr>\n",
       "    <tr>\n",
       "      <th>year</th>\n",
       "      <th></th>\n",
       "      <th></th>\n",
       "      <th></th>\n",
       "      <th></th>\n",
       "      <th></th>\n",
       "      <th></th>\n",
       "      <th></th>\n",
       "      <th></th>\n",
       "      <th></th>\n",
       "      <th></th>\n",
       "      <th></th>\n",
       "      <th></th>\n",
       "      <th></th>\n",
       "      <th></th>\n",
       "      <th></th>\n",
       "      <th></th>\n",
       "      <th></th>\n",
       "      <th></th>\n",
       "      <th></th>\n",
       "      <th></th>\n",
       "      <th></th>\n",
       "    </tr>\n",
       "  </thead>\n",
       "  <tbody>\n",
       "    <tr>\n",
       "      <th>2015</th>\n",
       "      <td>0.000155</td>\n",
       "      <td>NaN</td>\n",
       "      <td>0.002731</td>\n",
       "      <td>0.000282</td>\n",
       "      <td>0.003745</td>\n",
       "      <td>0.00011</td>\n",
       "      <td>0.000408</td>\n",
       "      <td>0.000133</td>\n",
       "      <td>0.000207</td>\n",
       "      <td>0.001694</td>\n",
       "      <td>...</td>\n",
       "      <td>NaN</td>\n",
       "      <td>NaN</td>\n",
       "      <td>0.001054</td>\n",
       "      <td>0.003393</td>\n",
       "      <td>0.003900</td>\n",
       "      <td>0.000208</td>\n",
       "      <td>NaN</td>\n",
       "      <td>NaN</td>\n",
       "      <td>0.000401</td>\n",
       "      <td>NaN</td>\n",
       "    </tr>\n",
       "    <tr>\n",
       "      <th>2016</th>\n",
       "      <td>NaN</td>\n",
       "      <td>0.000161</td>\n",
       "      <td>0.002628</td>\n",
       "      <td>0.000274</td>\n",
       "      <td>0.003784</td>\n",
       "      <td>NaN</td>\n",
       "      <td>0.000411</td>\n",
       "      <td>0.000174</td>\n",
       "      <td>0.000215</td>\n",
       "      <td>0.001602</td>\n",
       "      <td>...</td>\n",
       "      <td>NaN</td>\n",
       "      <td>NaN</td>\n",
       "      <td>0.001139</td>\n",
       "      <td>0.003252</td>\n",
       "      <td>0.003648</td>\n",
       "      <td>0.000177</td>\n",
       "      <td>NaN</td>\n",
       "      <td>NaN</td>\n",
       "      <td>0.000503</td>\n",
       "      <td>0.000131</td>\n",
       "    </tr>\n",
       "    <tr>\n",
       "      <th>2017</th>\n",
       "      <td>0.000131</td>\n",
       "      <td>0.000169</td>\n",
       "      <td>0.002428</td>\n",
       "      <td>0.000285</td>\n",
       "      <td>0.003905</td>\n",
       "      <td>NaN</td>\n",
       "      <td>0.000405</td>\n",
       "      <td>0.000204</td>\n",
       "      <td>0.000180</td>\n",
       "      <td>0.001465</td>\n",
       "      <td>...</td>\n",
       "      <td>NaN</td>\n",
       "      <td>NaN</td>\n",
       "      <td>0.001235</td>\n",
       "      <td>0.003000</td>\n",
       "      <td>0.003516</td>\n",
       "      <td>0.000188</td>\n",
       "      <td>NaN</td>\n",
       "      <td>NaN</td>\n",
       "      <td>0.000494</td>\n",
       "      <td>0.000163</td>\n",
       "    </tr>\n",
       "    <tr>\n",
       "      <th>2018</th>\n",
       "      <td>NaN</td>\n",
       "      <td>NaN</td>\n",
       "      <td>0.002259</td>\n",
       "      <td>0.000271</td>\n",
       "      <td>0.003307</td>\n",
       "      <td>NaN</td>\n",
       "      <td>0.000387</td>\n",
       "      <td>0.000244</td>\n",
       "      <td>0.000194</td>\n",
       "      <td>0.001479</td>\n",
       "      <td>...</td>\n",
       "      <td>0.000117</td>\n",
       "      <td>0.000181</td>\n",
       "      <td>0.001196</td>\n",
       "      <td>0.003001</td>\n",
       "      <td>0.003497</td>\n",
       "      <td>0.000190</td>\n",
       "      <td>0.000163</td>\n",
       "      <td>0.000159</td>\n",
       "      <td>0.000665</td>\n",
       "      <td>0.000179</td>\n",
       "    </tr>\n",
       "  </tbody>\n",
       "</table>\n",
       "<p>4 rows × 2136 columns</p>\n",
       "</div>"
      ],
      "text/plain": [
       "name     Aaden    Aadhya   Aaliyah     Aarav     Aaron   Aarush      Abby  \\\n",
       "year                                                                        \n",
       "2015  0.000155       NaN  0.002731  0.000282  0.003745  0.00011  0.000408   \n",
       "2016       NaN  0.000161  0.002628  0.000274  0.003784      NaN  0.000411   \n",
       "2017  0.000131  0.000169  0.002428  0.000285  0.003905      NaN  0.000405   \n",
       "2018       NaN       NaN  0.002259  0.000271  0.003307      NaN  0.000387   \n",
       "\n",
       "name    Abdiel  Abdullah      Abel  ...       Zev    Zhavia      Zion  \\\n",
       "year                                ...                                 \n",
       "2015  0.000133  0.000207  0.001694  ...       NaN       NaN  0.001054   \n",
       "2016  0.000174  0.000215  0.001602  ...       NaN       NaN  0.001139   \n",
       "2017  0.000204  0.000180  0.001465  ...       NaN       NaN  0.001235   \n",
       "2018  0.000244  0.000194  0.001479  ...  0.000117  0.000181  0.001196   \n",
       "\n",
       "name       Zoe      Zoey      Zoie      Zola      Zora      Zuri    Zyaire  \n",
       "year                                                                        \n",
       "2015  0.003393  0.003900  0.000208       NaN       NaN  0.000401       NaN  \n",
       "2016  0.003252  0.003648  0.000177       NaN       NaN  0.000503  0.000131  \n",
       "2017  0.003000  0.003516  0.000188       NaN       NaN  0.000494  0.000163  \n",
       "2018  0.003001  0.003497  0.000190  0.000163  0.000159  0.000665  0.000179  \n",
       "\n",
       "[4 rows x 2136 columns]"
      ]
     },
     "execution_count": 12,
     "metadata": {},
     "output_type": "execute_result"
    }
   ],
   "source": [
    "\n",
    "total_births = top1000.pivot_table('prop', index='year', columns='name',\n",
    "                                  aggfunc=sum)\n",
    "total_births"
   ]
  },
  {
   "cell_type": "code",
   "execution_count": 13,
   "metadata": {},
   "outputs": [
    {
     "data": {
      "text/plain": [
       "array([<matplotlib.axes._subplots.AxesSubplot object at 0x7f0c0ced6a58>,\n",
       "       <matplotlib.axes._subplots.AxesSubplot object at 0x7f0c08e75358>,\n",
       "       <matplotlib.axes._subplots.AxesSubplot object at 0x7f0c08e1b550>,\n",
       "       <matplotlib.axes._subplots.AxesSubplot object at 0x7f0c08e439b0>],\n",
       "      dtype=object)"
      ]
     },
     "execution_count": 13,
     "metadata": {},
     "output_type": "execute_result"
    },
    {
     "data": {
      "image/png": "[encoded data removed]",
      "text/plain": [
       "<Figure size 720x720 with 4 Axes>"
      ]
     },
     "metadata": {
      "needs_background": "light"
     },
     "output_type": "display_data"
    }
   ],
   "source": [
    "subset = total_births[['Aaron', 'Abby', 'Zoe', 'Zoey']]\n",
    "subset.plot(subplots=True,figsize=(10, 10), grid =False,\n",
    "           title=\"Proportion of names per year\", xticks=[2015, 2016, 2017, 2018])"
   ]
  },
  {
   "cell_type": "code",
   "execution_count": 14,
   "metadata": {},
   "outputs": [
    {
     "data": {
      "text/plain": [
       "<matplotlib.axes._subplots.AxesSubplot at 0x7f0c08d4a7f0>"
      ]
     },
     "execution_count": 14,
     "metadata": {},
     "output_type": "execute_result"
    },
    {
     "data": {
      "image/png": "[encoded data removed]",
      "text/plain": [
       "<Figure size 432x288 with 1 Axes>"
      ]
     },
     "metadata": {
      "needs_background": "light"
     },
     "output_type": "display_data"
    }
   ],
   "source": [
    "table = top1000.pivot_table('prop', index='year', columns='sex', aggfunc=sum)\n",
    "\n",
    "table.plot(title='Sum of table1000.prop by year and sex',\n",
    "          yticks=np.linspace(0.6, 1, 13), xticks=range(2015, 2019))"
   ]
  },
  {
   "cell_type": "markdown",
   "metadata": {},
   "source": [
    "As shown on the graph above usage of popular names is slightly decreasing from 2015 to 2018."
   ]
  },
  {
   "cell_type": "code",
   "execution_count": 15,
   "metadata": {},
   "outputs": [
    {
     "data": {
      "text/plain": [
       "134"
      ]
     },
     "execution_count": 15,
     "metadata": {},
     "output_type": "execute_result"
    }
   ],
   "source": [
    "df = boys[boys.year==2015]\n",
    "prop_cumsum= df.sort_values(by='prop', ascending=False).prop.cumsum()\n",
    "prop_cumsum.searchsorted(0.5)"
   ]
  },
  {
   "cell_type": "code",
   "execution_count": 16,
   "metadata": {},
   "outputs": [
    {
     "data": {
      "text/plain": [
       "138"
      ]
     },
     "execution_count": 16,
     "metadata": {},
     "output_type": "execute_result"
    }
   ],
   "source": [
    "df = boys[boys.year==2016]\n",
    "prop_cumsum= df.sort_values(by='prop', ascending=False).prop.cumsum()\n",
    "prop_cumsum.searchsorted(0.5)"
   ]
  },
  {
   "cell_type": "code",
   "execution_count": 17,
   "metadata": {},
   "outputs": [
    {
     "data": {
      "text/plain": [
       "142"
      ]
     },
     "execution_count": 17,
     "metadata": {},
     "output_type": "execute_result"
    }
   ],
   "source": [
    "df = boys[boys.year==2017]\n",
    "prop_cumsum= df.sort_values(by='prop', ascending=False).prop.cumsum()\n",
    "prop_cumsum.searchsorted(0.5)"
   ]
  },
  {
   "cell_type": "code",
   "execution_count": 18,
   "metadata": {},
   "outputs": [
    {
     "data": {
      "text/plain": [
       "148"
      ]
     },
     "execution_count": 18,
     "metadata": {},
     "output_type": "execute_result"
    }
   ],
   "source": [
    "df = boys[boys.year==2018]\n",
    "prop_cumsum= df.sort_values(by='prop', ascending=False).prop.cumsum()\n",
    "prop_cumsum.searchsorted(0.5)"
   ]
  },
  {
   "cell_type": "markdown",
   "metadata": {},
   "source": [
    "The previous 4 outputs also show that the proportion of popular boys names is decreasing from 2017 to 2018. In other words, name diversity has been increasing every year."
   ]
  },
  {
   "cell_type": "markdown",
   "metadata": {},
   "source": [
    "### Exploring last letters of names"
   ]
  },
  {
   "cell_type": "code",
   "execution_count": 19,
   "metadata": {},
   "outputs": [
    {
     "data": {
      "text/plain": [
       "0    a\n",
       "1    a\n",
       "2    a\n",
       "3    a\n",
       "4    a\n",
       "Name: last_letter, dtype: object"
      ]
     },
     "execution_count": 19,
     "metadata": {},
     "output_type": "execute_result"
    }
   ],
   "source": [
    "# extract last letter from name column\n",
    "get_last_letter = lambda x: x[-1]\n",
    "last_letters = names.name.map(get_last_letter)\n",
    "last_letters.name = 'last_letter'\n",
    "\n",
    "last_letters.head()"
   ]
  },
  {
   "cell_type": "code",
   "execution_count": 20,
   "metadata": {},
   "outputs": [
    {
     "data": {
      "text/html": [
       "<div>\n",
       "<style scoped>\n",
       "    .dataframe tbody tr th:only-of-type {\n",
       "        vertical-align: middle;\n",
       "    }\n",
       "\n",
       "    .dataframe tbody tr th {\n",
       "        vertical-align: top;\n",
       "    }\n",
       "\n",
       "    .dataframe thead tr th {\n",
       "        text-align: left;\n",
       "    }\n",
       "\n",
       "    .dataframe thead tr:last-of-type th {\n",
       "        text-align: right;\n",
       "    }\n",
       "</style>\n",
       "<table border=\"1\" class=\"dataframe\">\n",
       "  <thead>\n",
       "    <tr>\n",
       "      <th>sex</th>\n",
       "      <th colspan=\"4\" halign=\"left\">F</th>\n",
       "      <th colspan=\"4\" halign=\"left\">M</th>\n",
       "    </tr>\n",
       "    <tr>\n",
       "      <th>year</th>\n",
       "      <th>2015</th>\n",
       "      <th>2016</th>\n",
       "      <th>2017</th>\n",
       "      <th>2018</th>\n",
       "      <th>2015</th>\n",
       "      <th>2016</th>\n",
       "      <th>2017</th>\n",
       "      <th>2018</th>\n",
       "    </tr>\n",
       "    <tr>\n",
       "      <th>last_letter</th>\n",
       "      <th></th>\n",
       "      <th></th>\n",
       "      <th></th>\n",
       "      <th></th>\n",
       "      <th></th>\n",
       "      <th></th>\n",
       "      <th></th>\n",
       "      <th></th>\n",
       "    </tr>\n",
       "  </thead>\n",
       "  <tbody>\n",
       "    <tr>\n",
       "      <th>a</th>\n",
       "      <td>660321</td>\n",
       "      <td>657612</td>\n",
       "      <td>652257</td>\n",
       "      <td>646970</td>\n",
       "      <td>28994</td>\n",
       "      <td>29703</td>\n",
       "      <td>30226</td>\n",
       "      <td>30691</td>\n",
       "    </tr>\n",
       "    <tr>\n",
       "      <th>b</th>\n",
       "      <td>596</td>\n",
       "      <td>655</td>\n",
       "      <td>572</td>\n",
       "      <td>576</td>\n",
       "      <td>29583</td>\n",
       "      <td>26973</td>\n",
       "      <td>24501</td>\n",
       "      <td>22563</td>\n",
       "    </tr>\n",
       "    <tr>\n",
       "      <th>c</th>\n",
       "      <td>1255</td>\n",
       "      <td>1297</td>\n",
       "      <td>1179</td>\n",
       "      <td>1115</td>\n",
       "      <td>23128</td>\n",
       "      <td>22040</td>\n",
       "      <td>20534</td>\n",
       "      <td>19338</td>\n",
       "    </tr>\n",
       "    <tr>\n",
       "      <th>d</th>\n",
       "      <td>3252</td>\n",
       "      <td>3442</td>\n",
       "      <td>3485</td>\n",
       "      <td>3516</td>\n",
       "      <td>43748</td>\n",
       "      <td>42979</td>\n",
       "      <td>42056</td>\n",
       "      <td>41585</td>\n",
       "    </tr>\n",
       "    <tr>\n",
       "      <th>e</th>\n",
       "      <td>326957</td>\n",
       "      <td>325914</td>\n",
       "      <td>310967</td>\n",
       "      <td>300769</td>\n",
       "      <td>128504</td>\n",
       "      <td>125930</td>\n",
       "      <td>121785</td>\n",
       "      <td>119409</td>\n",
       "    </tr>\n",
       "  </tbody>\n",
       "</table>\n",
       "</div>"
      ],
      "text/plain": [
       "sex               F                               M                        \n",
       "year           2015    2016    2017    2018    2015    2016    2017    2018\n",
       "last_letter                                                                \n",
       "a            660321  657612  652257  646970   28994   29703   30226   30691\n",
       "b               596     655     572     576   29583   26973   24501   22563\n",
       "c              1255    1297    1179    1115   23128   22040   20534   19338\n",
       "d              3252    3442    3485    3516   43748   42979   42056   41585\n",
       "e            326957  325914  310967  300769  128504  125930  121785  119409"
      ]
     },
     "execution_count": 20,
     "metadata": {},
     "output_type": "execute_result"
    }
   ],
   "source": [
    "table = names.pivot_table('births', index = last_letters,\n",
    "                         columns = ['sex', 'year'], aggfunc=sum)\n",
    "\n",
    "table.head()"
   ]
  },
  {
   "cell_type": "code",
   "execution_count": 21,
   "metadata": {},
   "outputs": [
    {
     "data": {
      "text/html": [
       "<div>\n",
       "<style scoped>\n",
       "    .dataframe tbody tr th:only-of-type {\n",
       "        vertical-align: middle;\n",
       "    }\n",
       "\n",
       "    .dataframe tbody tr th {\n",
       "        vertical-align: top;\n",
       "    }\n",
       "\n",
       "    .dataframe thead tr th {\n",
       "        text-align: left;\n",
       "    }\n",
       "\n",
       "    .dataframe thead tr:last-of-type th {\n",
       "        text-align: right;\n",
       "    }\n",
       "</style>\n",
       "<table border=\"1\" class=\"dataframe\">\n",
       "  <thead>\n",
       "    <tr>\n",
       "      <th>sex</th>\n",
       "      <th colspan=\"4\" halign=\"left\">F</th>\n",
       "      <th colspan=\"4\" halign=\"left\">M</th>\n",
       "    </tr>\n",
       "    <tr>\n",
       "      <th>year</th>\n",
       "      <th>2015</th>\n",
       "      <th>2016</th>\n",
       "      <th>2017</th>\n",
       "      <th>2018</th>\n",
       "      <th>2015</th>\n",
       "      <th>2016</th>\n",
       "      <th>2017</th>\n",
       "      <th>2018</th>\n",
       "    </tr>\n",
       "    <tr>\n",
       "      <th>last_letter</th>\n",
       "      <th></th>\n",
       "      <th></th>\n",
       "      <th></th>\n",
       "      <th></th>\n",
       "      <th></th>\n",
       "      <th></th>\n",
       "      <th></th>\n",
       "      <th></th>\n",
       "    </tr>\n",
       "  </thead>\n",
       "  <tbody>\n",
       "    <tr>\n",
       "      <th>a</th>\n",
       "      <td>0.370872</td>\n",
       "      <td>0.372329</td>\n",
       "      <td>0.379409</td>\n",
       "      <td>0.383512</td>\n",
       "      <td>0.015168</td>\n",
       "      <td>0.015703</td>\n",
       "      <td>0.016402</td>\n",
       "      <td>0.017047</td>\n",
       "    </tr>\n",
       "    <tr>\n",
       "      <th>b</th>\n",
       "      <td>0.000335</td>\n",
       "      <td>0.000371</td>\n",
       "      <td>0.000333</td>\n",
       "      <td>0.000341</td>\n",
       "      <td>0.015476</td>\n",
       "      <td>0.014259</td>\n",
       "      <td>0.013295</td>\n",
       "      <td>0.012532</td>\n",
       "    </tr>\n",
       "    <tr>\n",
       "      <th>c</th>\n",
       "      <td>0.000705</td>\n",
       "      <td>0.000734</td>\n",
       "      <td>0.000686</td>\n",
       "      <td>0.000661</td>\n",
       "      <td>0.012099</td>\n",
       "      <td>0.011652</td>\n",
       "      <td>0.011143</td>\n",
       "      <td>0.010741</td>\n",
       "    </tr>\n",
       "    <tr>\n",
       "      <th>d</th>\n",
       "      <td>0.001827</td>\n",
       "      <td>0.001949</td>\n",
       "      <td>0.002027</td>\n",
       "      <td>0.002084</td>\n",
       "      <td>0.022886</td>\n",
       "      <td>0.022721</td>\n",
       "      <td>0.022821</td>\n",
       "      <td>0.023098</td>\n",
       "    </tr>\n",
       "    <tr>\n",
       "      <th>e</th>\n",
       "      <td>0.183637</td>\n",
       "      <td>0.184527</td>\n",
       "      <td>0.180885</td>\n",
       "      <td>0.178290</td>\n",
       "      <td>0.067225</td>\n",
       "      <td>0.066574</td>\n",
       "      <td>0.066086</td>\n",
       "      <td>0.066324</td>\n",
       "    </tr>\n",
       "  </tbody>\n",
       "</table>\n",
       "</div>"
      ],
      "text/plain": [
       "sex                 F                                       M            \\\n",
       "year             2015      2016      2017      2018      2015      2016   \n",
       "last_letter                                                               \n",
       "a            0.370872  0.372329  0.379409  0.383512  0.015168  0.015703   \n",
       "b            0.000335  0.000371  0.000333  0.000341  0.015476  0.014259   \n",
       "c            0.000705  0.000734  0.000686  0.000661  0.012099  0.011652   \n",
       "d            0.001827  0.001949  0.002027  0.002084  0.022886  0.022721   \n",
       "e            0.183637  0.184527  0.180885  0.178290  0.067225  0.066574   \n",
       "\n",
       "sex                              \n",
       "year             2017      2018  \n",
       "last_letter                      \n",
       "a            0.016402  0.017047  \n",
       "b            0.013295  0.012532  \n",
       "c            0.011143  0.010741  \n",
       "d            0.022821  0.023098  \n",
       "e            0.066086  0.066324  "
      ]
     },
     "execution_count": 21,
     "metadata": {},
     "output_type": "execute_result"
    }
   ],
   "source": [
    "#normalizing the table\n",
    "\n",
    "letter_prop = table/table.sum().astype(float)\n",
    "letter_prop.head()"
   ]
  },
  {
   "cell_type": "code",
   "execution_count": 22,
   "metadata": {},
   "outputs": [
    {
     "data": {
      "text/plain": [
       "<matplotlib.axes._subplots.AxesSubplot at 0x7f0c08c7f748>"
      ]
     },
     "execution_count": 22,
     "metadata": {},
     "output_type": "execute_result"
    },
    {
     "data": {
      "image/png": "[encoded data removed]",
      "text/plain": [
       "<Figure size 720x720 with 2 Axes>"
      ]
     },
     "metadata": {
      "needs_background": "light"
     },
     "output_type": "display_data"
    }
   ],
   "source": [
    "# make bar plots for last letter proportions for each sex, broken down by year\n",
    "fig, axes = plt.subplots(2, 1, figsize=(10,10))\n",
    "letter_prop['M'].plot(kind='bar', rot=0, ax=axes[0], title=\"Proportions of last letters of male names by year\")\n",
    "letter_prop['F'].plot(kind='bar', rot=0, ax=axes[1], title=\"Proportions of last letters of female names by year\")"
   ]
  },
  {
   "cell_type": "markdown",
   "metadata": {},
   "source": [
    "The two graphs above show how male names ending with the letter 'n' have decreased in popularity from 2015 to 2018.\n",
    "Girl names ending with 'a' have become more popular over those years."
   ]
  },
  {
   "cell_type": "code",
   "execution_count": 24,
   "metadata": {},
   "outputs": [
    {
     "name": "stderr",
     "output_type": "stream",
     "text": [
      "/home/nata/anaconda3/lib/python3.7/site-packages/ipykernel_launcher.py:1: DeprecationWarning: \n",
      ".ix is deprecated. Please use\n",
      ".loc for label based indexing or\n",
      ".iloc for positional indexing\n",
      "\n",
      "See the documentation here:\n",
      "http://pandas.pydata.org/pandas-docs/stable/indexing.html#ix-indexer-is-deprecated\n",
      "  \"\"\"Entry point for launching an IPython kernel.\n"
     ]
    },
    {
     "data": {
      "text/plain": [
       "<matplotlib.axes._subplots.AxesSubplot at 0x7f0c088f8358>"
      ]
     },
     "execution_count": 24,
     "metadata": {},
     "output_type": "execute_result"
    },
    {
     "data": {
      "image/png": "[encoded data removed]",
      "text/plain": [
       "<Figure size 432x288 with 1 Axes>"
      ]
     },
     "metadata": {
      "needs_background": "light"
     },
     "output_type": "display_data"
    }
   ],
   "source": [
    "rst_ts=letter_prop.ix[['r', 's', 't'], 'M'].T\n",
    "rst_ts.plot(title=\"Proportion of boys born with names ending in r/s/t over time\")"
   ]
  },
  {
   "cell_type": "markdown",
   "metadata": {},
   "source": [
    "### Exploring unisex names"
   ]
  },
  {
   "cell_type": "code",
   "execution_count": 66,
   "metadata": {},
   "outputs": [
    {
     "data": {
      "text/plain": [
       "array(['Alexa', 'Alexis', 'Alexandra', 'Alexandria', 'Alexia', 'Alex',\n",
       "       'Alexus', 'Alexi', 'Alexandrea', 'Alexxa', 'Alexys', 'Alexsandra',\n",
       "       'Alexah', 'Alexie', 'Alexzandria', 'Alexiana', 'Alexander',\n",
       "       'Alexiah', 'Alexianna', 'Alexzandra', 'Alexsa', 'Alexya',\n",
       "       'Alexcia', 'Alexza', 'Alexsia', 'Alexxis', 'Alexius', 'Alexei',\n",
       "       'Alexine', 'Alexandrya', 'Alexsis', 'Alexx', 'Alexzander',\n",
       "       'Alexandre', 'Alexavier', 'Alexandro', 'Alexandros', 'Alexandru',\n",
       "       'Alexey', 'Alexsander', 'Alexandr', 'Alexandar', 'Alexxander',\n",
       "       'Alexanderjames', 'Alexsandro', 'Alexio', 'Alexios', 'Alexy',\n",
       "       'Alexxia', 'Alexiel', 'Alexina', 'Alexandrina', 'Alexzavier'],\n",
       "      dtype=object)"
      ]
     },
     "execution_count": 66,
     "metadata": {},
     "output_type": "execute_result"
    }
   ],
   "source": [
    "all_names = names.name.unique()\n",
    "mask = np.array(['Alex' in x for x in all_names])\n",
    "alex_like = all_names[mask]\n",
    "alex_like"
   ]
  },
  {
   "cell_type": "code",
   "execution_count": 67,
   "metadata": {},
   "outputs": [
    {
     "data": {
      "text/plain": [
       "name\n",
       "Alex              11760\n",
       "Alexa             17798\n",
       "Alexah               88\n",
       "Alexandar            41\n",
       "Alexander         52543\n",
       "Alexanderjames       27\n",
       "Alexandr             53\n",
       "Alexandra         10842\n",
       "Alexandre           343\n",
       "Alexandrea          231\n",
       "Alexandria         5417\n",
       "Alexandrina           6\n",
       "Alexandro           339\n",
       "Alexandros          149\n",
       "Alexandru            88\n",
       "Alexandrya           25\n",
       "Alexavier           340\n",
       "Alexcia              44\n",
       "Alexei              150\n",
       "Alexey              118\n",
       "Alexi               345\n",
       "Alexia             3252\n",
       "Alexiah              52\n",
       "Alexiana             94\n",
       "Alexianna            55\n",
       "Alexie              104\n",
       "Alexiel              17\n",
       "Alexina              15\n",
       "Alexine               6\n",
       "Alexio               39\n",
       "Alexios              13\n",
       "Alexis            13232\n",
       "Alexius              37\n",
       "Alexsa               58\n",
       "Alexsander           82\n",
       "Alexsandra           79\n",
       "Alexsandro           14\n",
       "Alexsia              25\n",
       "Alexsis              10\n",
       "Alexus              236\n",
       "Alexx                41\n",
       "Alexxa              138\n",
       "Alexxander           40\n",
       "Alexxia              10\n",
       "Alexxis              40\n",
       "Alexy                22\n",
       "Alexya               31\n",
       "Alexys              118\n",
       "Alexza               25\n",
       "Alexzander          974\n",
       "Alexzandra           39\n",
       "Alexzandria          88\n",
       "Alexzavier            6\n",
       "Name: births, dtype: int64"
      ]
     },
     "execution_count": 67,
     "metadata": {},
     "output_type": "execute_result"
    }
   ],
   "source": [
    "filtered = names[names.name.isin(alex_like)]\n",
    "filtered.groupby('name').births.sum()"
   ]
  },
  {
   "cell_type": "code",
   "execution_count": 68,
   "metadata": {},
   "outputs": [
    {
     "data": {
      "text/html": [
       "<div>\n",
       "<style scoped>\n",
       "    .dataframe tbody tr th:only-of-type {\n",
       "        vertical-align: middle;\n",
       "    }\n",
       "\n",
       "    .dataframe tbody tr th {\n",
       "        vertical-align: top;\n",
       "    }\n",
       "\n",
       "    .dataframe thead th {\n",
       "        text-align: right;\n",
       "    }\n",
       "</style>\n",
       "<table border=\"1\" class=\"dataframe\">\n",
       "  <thead>\n",
       "    <tr style=\"text-align: right;\">\n",
       "      <th>sex</th>\n",
       "      <th>F</th>\n",
       "      <th>M</th>\n",
       "    </tr>\n",
       "    <tr>\n",
       "      <th>year</th>\n",
       "      <th></th>\n",
       "      <th></th>\n",
       "    </tr>\n",
       "  </thead>\n",
       "  <tbody>\n",
       "    <tr>\n",
       "      <th>2015</th>\n",
       "      <td>0.448385</td>\n",
       "      <td>0.551615</td>\n",
       "    </tr>\n",
       "    <tr>\n",
       "      <th>2016</th>\n",
       "      <td>0.425477</td>\n",
       "      <td>0.574523</td>\n",
       "    </tr>\n",
       "    <tr>\n",
       "      <th>2017</th>\n",
       "      <td>0.402797</td>\n",
       "      <td>0.597203</td>\n",
       "    </tr>\n",
       "    <tr>\n",
       "      <th>2018</th>\n",
       "      <td>0.372353</td>\n",
       "      <td>0.627647</td>\n",
       "    </tr>\n",
       "  </tbody>\n",
       "</table>\n",
       "</div>"
      ],
      "text/plain": [
       "sex          F         M\n",
       "year                    \n",
       "2015  0.448385  0.551615\n",
       "2016  0.425477  0.574523\n",
       "2017  0.402797  0.597203\n",
       "2018  0.372353  0.627647"
      ]
     },
     "execution_count": 68,
     "metadata": {},
     "output_type": "execute_result"
    }
   ],
   "source": [
    "# aggregate by sex and year and normalize within year\n",
    "table = filtered.pivot_table('births', index ='year',\n",
    "                            columns = 'sex', aggfunc='sum')\n",
    "\n",
    "table = table.div(table.sum(1), axis=0)\n",
    "\n",
    "table"
   ]
  },
  {
   "cell_type": "code",
   "execution_count": 47,
   "metadata": {},
   "outputs": [
    {
     "data": {
      "text/plain": [
       "<matplotlib.axes._subplots.AxesSubplot at 0x7f0c0842e4e0>"
      ]
     },
     "execution_count": 47,
     "metadata": {},
     "output_type": "execute_result"
    },
    {
     "data": {
      "image/png": "[encoded data removed]",
      "text/plain": [
       "<Figure size 432x288 with 1 Axes>"
      ]
     },
     "metadata": {
      "needs_background": "light"
     },
     "output_type": "display_data"
    }
   ],
   "source": [
    "table.plot(style={'M': 'k-', 'F': 'k--'})"
   ]
  },
  {
   "cell_type": "markdown",
   "metadata": {},
   "source": [
    "The graph above shows that names starting with \"Alex\" have become more popular for boys and less popular for girls."
   ]
  },
  {
   "cell_type": "markdown",
   "metadata": {},
   "source": [
    "### Has \"Donald\" become a less popular name?\n",
    "- Yes, proportion of babies born with the name \"Donald\" has decreased from 2015 to 2018 as shown below."
   ]
  },
  {
   "cell_type": "code",
   "execution_count": 63,
   "metadata": {},
   "outputs": [
    {
     "data": {
      "text/html": [
       "<div>\n",
       "<style scoped>\n",
       "    .dataframe tbody tr th:only-of-type {\n",
       "        vertical-align: middle;\n",
       "    }\n",
       "\n",
       "    .dataframe tbody tr th {\n",
       "        vertical-align: top;\n",
       "    }\n",
       "\n",
       "    .dataframe thead th {\n",
       "        text-align: right;\n",
       "    }\n",
       "</style>\n",
       "<table border=\"1\" class=\"dataframe\">\n",
       "  <thead>\n",
       "    <tr style=\"text-align: right;\">\n",
       "      <th></th>\n",
       "      <th>prop</th>\n",
       "    </tr>\n",
       "    <tr>\n",
       "      <th>year</th>\n",
       "      <th></th>\n",
       "    </tr>\n",
       "  </thead>\n",
       "  <tbody>\n",
       "    <tr>\n",
       "      <th>2015</th>\n",
       "      <td>0.000361</td>\n",
       "    </tr>\n",
       "    <tr>\n",
       "      <th>2016</th>\n",
       "      <td>0.000330</td>\n",
       "    </tr>\n",
       "    <tr>\n",
       "      <th>2017</th>\n",
       "      <td>0.000326</td>\n",
       "    </tr>\n",
       "    <tr>\n",
       "      <th>2018</th>\n",
       "      <td>0.000296</td>\n",
       "    </tr>\n",
       "  </tbody>\n",
       "</table>\n",
       "</div>"
      ],
      "text/plain": [
       "          prop\n",
       "year          \n",
       "2015  0.000361\n",
       "2016  0.000330\n",
       "2017  0.000326\n",
       "2018  0.000296"
      ]
     },
     "execution_count": 63,
     "metadata": {},
     "output_type": "execute_result"
    }
   ],
   "source": [
    "table = names[names.name == \"Donald\"].pivot_table('prop', index ='year', aggfunc='sum')\n",
    "table"
   ]
  },
  {
   "cell_type": "markdown",
   "metadata": {},
   "source": [
    "### Has \"Elon\" become a more popular name?\n",
    "- Yes, proportion of babies born with the name \"Elon\" has increased from 2015 to 2018 as shown below."
   ]
  },
  {
   "cell_type": "code",
   "execution_count": 64,
   "metadata": {},
   "outputs": [
    {
     "data": {
      "text/html": [
       "<div>\n",
       "<style scoped>\n",
       "    .dataframe tbody tr th:only-of-type {\n",
       "        vertical-align: middle;\n",
       "    }\n",
       "\n",
       "    .dataframe tbody tr th {\n",
       "        vertical-align: top;\n",
       "    }\n",
       "\n",
       "    .dataframe thead th {\n",
       "        text-align: right;\n",
       "    }\n",
       "</style>\n",
       "<table border=\"1\" class=\"dataframe\">\n",
       "  <thead>\n",
       "    <tr style=\"text-align: right;\">\n",
       "      <th></th>\n",
       "      <th>prop</th>\n",
       "    </tr>\n",
       "    <tr>\n",
       "      <th>year</th>\n",
       "      <th></th>\n",
       "    </tr>\n",
       "  </thead>\n",
       "  <tbody>\n",
       "    <tr>\n",
       "      <th>2015</th>\n",
       "      <td>0.000051</td>\n",
       "    </tr>\n",
       "    <tr>\n",
       "      <th>2016</th>\n",
       "      <td>0.000077</td>\n",
       "    </tr>\n",
       "    <tr>\n",
       "      <th>2017</th>\n",
       "      <td>0.000106</td>\n",
       "    </tr>\n",
       "    <tr>\n",
       "      <th>2018</th>\n",
       "      <td>0.000123</td>\n",
       "    </tr>\n",
       "  </tbody>\n",
       "</table>\n",
       "</div>"
      ],
      "text/plain": [
       "          prop\n",
       "year          \n",
       "2015  0.000051\n",
       "2016  0.000077\n",
       "2017  0.000106\n",
       "2018  0.000123"
      ]
     },
     "execution_count": 64,
     "metadata": {},
     "output_type": "execute_result"
    }
   ],
   "source": [
    "table = names[names.name == \"Elon\"].pivot_table('prop', index ='year', aggfunc='sum')\n",
    "table"
   ]
  },
  {
   "cell_type": "markdown",
   "metadata": {},
   "source": []
  },
  {
   "cell_type": "markdown",
   "metadata": {},
   "source": [
    "Data Source: https://www.ssa.gov/oact/babynames/limits.html"
   ]
  },
  {
   "cell_type": "code",
   "execution_count": null,
   "metadata": {},
   "outputs": [],
   "source": []
  }
 ],
 "metadata": {
  "kernelspec": {
   "display_name": "Python [conda env:root] *",
   "language": "python",
   "name": "conda-root-py"
  },
  "language_info": {
   "codemirror_mode": {
    "name": "ipython",
    "version": 3
   },
   "file_extension": ".py",
   "mimetype": "text/x-python",
   "name": "python",
   "nbconvert_exporter": "python",
   "pygments_lexer": "ipython3",
   "version": "3.7.3"
  }
 },
 "nbformat": 4,
 "nbformat_minor": 2
}
